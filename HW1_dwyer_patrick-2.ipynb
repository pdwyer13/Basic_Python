{
  "nbformat": 4,
  "nbformat_minor": 0,
  "metadata": {
    "colab": {
      "name": "HW1_dwyer_patrick.ipynb",
      "provenance": [],
      "collapsed_sections": []
    },
    "kernelspec": {
      "name": "python3",
      "display_name": "Python 3"
    }
  },
  "cells": [
    {
      "cell_type": "markdown",
      "metadata": {
        "id": "hm8RAKinXsIP"
      },
      "source": [
        "## **Homework 1**\n",
        "\n",
        "### Create a copy of the notebook to start answering the questions. Name your notebook in the format HW1_lastname_firstname.ipynb to facilitate the grading process. \n",
        "\n",
        "### Answer all the questions, test your code to ensure there are no errors and the results are as expected. Once you have answered all the questions, save the final copy, then go to File-> click on Download.ipynb. Once the local copy has been downloaded, submit your file on Blackboard under the corresponding assignment section. Also provide us a link to your notebook during submission. \n",
        "\n",
        "### **The due date of this homework is 02/05/2021 (Friday).**\n",
        "\n",
        "### Please ensure you follow all the steps mentioned in the homework.\n",
        "\n",
        "### All the questions have a sample input and output to help you understand the question. Please note that your programs will be tested for other sets of inputs and outputs along with the sample provided. So test your code for other inputs.\n",
        "\n",
        "### You can submit your solutions any number of times until the deadline.\n"
      ]
    },
    {
      "cell_type": "markdown",
      "metadata": {
        "id": "uacFrEaZfcfq"
      },
      "source": [
        "##### Q1. Write a program that prompts the user to enter a password then prints the length of the password.\n",
        "\n",
        "```\n",
        "Enter your password: hello\n",
        "Your password is 5 long.\n",
        "```\n",
        "\n",
        "\n"
      ]
    },
    {
      "cell_type": "code",
      "metadata": {
        "id": "avPyES14ftCt",
        "colab": {
          "base_uri": "https://localhost:8080/"
        },
        "outputId": "8cd9be3e-ea7f-4df5-8d14-ef31c028a119"
      },
      "source": [
        "# Type solution here\n",
        "password = input(\"Enter your password:\")\n",
        "print(\"Your password is\",len(password),\"long.\")"
      ],
      "execution_count": null,
      "outputs": [
        {
          "output_type": "stream",
          "text": [
            "Enter your password:pota\n",
            "Your password is 4 long\n"
          ],
          "name": "stdout"
        }
      ]
    },
    {
      "cell_type": "markdown",
      "metadata": {
        "id": "ekh-kABuItli"
      },
      "source": [
        ""
      ]
    },
    {
      "cell_type": "markdown",
      "metadata": {
        "id": "K1yko-xUItU3"
      },
      "source": [
        ""
      ]
    },
    {
      "cell_type": "markdown",
      "metadata": {
        "id": "behD0j_Of2TW"
      },
      "source": [
        "##### Q2. Write a program that prompts the user to enter their full name then prints the number of characters in their name (do not count spaces).\n",
        "\n",
        "```\n",
        "What is your name? Amulya Katti\n",
        "Amulya Katti your name has 11 characters.\n",
        "```"
      ]
    },
    {
      "cell_type": "code",
      "metadata": {
        "id": "XSdIRjwlhSlu",
        "colab": {
          "base_uri": "https://localhost:8080/"
        },
        "outputId": "e4f1f9e9-ec35-4b77-e4d1-7ea427f49473"
      },
      "source": [
        "# Type solution here\n",
        "name = input(\"What is your name?\")\n",
        "print(name,\"your name has\",len(name) - name.count(\" \"),\"characters\")"
      ],
      "execution_count": null,
      "outputs": [
        {
          "output_type": "stream",
          "text": [
            "What is your name?pat dwyer\n",
            "pat dwyer your name has 8 characters\n"
          ],
          "name": "stdout"
        }
      ]
    },
    {
      "cell_type": "markdown",
      "metadata": {
        "id": "5KHOWF6FhVHV"
      },
      "source": [
        "##### Q3. Write a program that prompts the user to enter a month (as a number), then prints the name of the month and the number of days in that month. Ensure that the user inputs a valid month and handle any error cases.\n",
        "\n",
        "```\n",
        "Enter the month number: 9\n",
        "September has 30 days\n",
        "```"
      ]
    },
    {
      "cell_type": "code",
      "metadata": {
        "id": "KhS-SAEThyTG",
        "colab": {
          "base_uri": "https://localhost:8080/"
        },
        "outputId": "94a683d1-5f20-4842-85c7-7d7dfd1bf760"
      },
      "source": [
        "# Type solution here\n",
        "monthnum = int(input(\"Enter the month number:\"))\n",
        "month = str\n",
        "days = int\n",
        "if monthnum < 1 or monthnum > 12:\n",
        "  print(\"Error. Enter a number between 1 and 12\")\n",
        "elif monthnum == 1:\n",
        "  month = 'January'\n",
        "  days = 31\n",
        "elif monthnum == 2:\n",
        "  month = 'February'\n",
        "  days = 28\n",
        "elif monthnum == 3:\n",
        "  month = 'March'\n",
        "  days = 31\n",
        "elif monthnum == 4:\n",
        "  month = 'April'\n",
        "  days = 30\n",
        "elif monthnum == 5:\n",
        "  month = 'May'\n",
        "  days = 31\n",
        "elif monthnum == 6:\n",
        "  month = 'June'\n",
        "  days = 30\n",
        "elif monthnum == 7:\n",
        "  month = 'July'\n",
        "  days = 31\n",
        "elif monthnum == 8:\n",
        "  month = 'August'\n",
        "  days = 31\n",
        "elif monthnum == 9:\n",
        "  month = 'September'\n",
        "  days = 30\n",
        "elif monthnum == 10:\n",
        "  month = 'October'\n",
        "  days = 31\n",
        "elif monthnum == 11:\n",
        "  month = 'November'\n",
        "  days = 30\n",
        "elif monthnum == 12:\n",
        "  month = December\n",
        "  days = 31\n",
        "\n",
        "print(month,\"has\",days,\"days\")\n"
      ],
      "execution_count": null,
      "outputs": [
        {
          "output_type": "stream",
          "text": [
            "Enter the month number:11\n",
            "November has 30\n"
          ],
          "name": "stdout"
        }
      ]
    },
    {
      "cell_type": "markdown",
      "metadata": {
        "id": "O7lnAdGlh6Xa"
      },
      "source": [
        "##### Q4. Write a program that prompts the user to enter a loan amount, annual interest rate, and number of years  for a car loan. Then calculate and print the monthly payment amount.\n",
        "\n",
        "Note:\n",
        "```\n",
        "PMT= [PV*i*((1+i)^n)]/[((1+i)^n)-1]\n",
        "```\n",
        "PMT is the monthly payment\n",
        "\n",
        "PV is the loan amount\n",
        "\n",
        "i is the interest rate per month in decimal form (interest rate percentage divided by 12)\n",
        "\n",
        "n is the number of months (term of the loan in months)\n",
        "\n",
        "```\n",
        "Loan Amount: 30000.00\n",
        "Annual Interest Rate: 4.00\n",
        "Years: 5\n",
        "Your monthly payment is: $552.50\n",
        "```"
      ]
    },
    {
      "cell_type": "code",
      "metadata": {
        "id": "p4B5JH5GiTs9",
        "colab": {
          "base_uri": "https://localhost:8080/"
        },
        "outputId": "5a62a36e-ca3c-4dce-b573-20a57b083f6e"
      },
      "source": [
        "# Type solution here\n",
        "PV = int(input(\"Loan Amount:\"))\n",
        "i = int(input(\"Annual Interest Rate:\"))\n",
        "i = i/100\n",
        "i = i/12\n",
        "print(i)\n",
        "n = int(input(\"Year:\"))\n",
        "pmt = (PV * (i * (1 + i) ** n)) / ((1 + i) ** n - 1)\n",
        "print(\"Your monthly payment is:\",pmt)"
      ],
      "execution_count": null,
      "outputs": [
        {
          "output_type": "stream",
          "text": [
            "Loan Amount:30000\n",
            "Annual Interest Rate:4\n",
            "0.0033333333333333335\n",
            "Year:5\n",
            "Your monthly payment is: 6060.133110964782\n"
          ],
          "name": "stdout"
        }
      ]
    },
    {
      "cell_type": "markdown",
      "metadata": {
        "id": "SjiolJKgiWV-"
      },
      "source": [
        "##### Q5. Write a program to that prompts the user to enter a string. Then check whether or not the string is a palindrome.\n",
        "\n",
        "```\n",
        "Enter a string: Madam\n",
        "Madam, is a palindrome!\n",
        "```"
      ]
    },
    {
      "cell_type": "code",
      "metadata": {
        "id": "F5_M934Ri0es",
        "colab": {
          "base_uri": "https://localhost:8080/"
        },
        "outputId": "95231554-11f0-4997-eb14-99cd0492956e"
      },
      "source": [
        "# Type solution here\n",
        "word = input(\"Enter a sting:\")\n",
        "if word == word[::-1]:\n",
        "  print(word,\"is a palindrome!\")\n",
        "else:\n",
        "  print(word,\"is not a palindrome\")"
      ],
      "execution_count": null,
      "outputs": [
        {
          "output_type": "stream",
          "text": [
            "Enter a sting:ariel\n",
            "ariel is not a palindrome\n"
          ],
          "name": "stdout"
        }
      ]
    },
    {
      "cell_type": "markdown",
      "metadata": {
        "id": "BLBD6n9vkJEu"
      },
      "source": [
        "##### Q6. Write a program to compute and print all possible combinations of change for \\$1. Denominations to be considered – quarter, dime, nickel, penny.\n",
        "\n",
        "Hint: Use nested loops (loops within loops for the various denominations of coins)\n",
        "\n",
        "```\n",
        "Change for $1:\n",
        "0 quarters, 0 dimes, 0 nickels, 100 pennies\n",
        "…\n",
        "4 quarters, 0 dimes, 0 nickels, 0 pennies\n",
        "```"
      ]
    },
    {
      "cell_type": "code",
      "metadata": {
        "id": "kAQsTjwDkZZ5",
        "colab": {
          "base_uri": "https://localhost:8080/"
        },
        "outputId": "b6beb4eb-84ae-4da2-8d72-549aa1f4da4b"
      },
      "source": [
        "# Type solution here\n",
        "print(\"Change for $1\")\n",
        "quarter = 25\n",
        "dime = 10\n",
        "nickel = 5\n",
        "penny = 1\n",
        "# dollar = quarter(q) + dime(d) + nickel(n) + penny(p)\n",
        "for i in range(101):\n",
        "  dollar = (i*penny)\n",
        "  if dollar == 100:\n",
        "    print(\"0 quarters, 0 dimes, 0 nickels\", i,\"pennies\")\n",
        "for i in range(101):\n",
        "  dollar = (i*nickel)\n",
        "  if dollar == 100:\n",
        "    print(\"0 quarters, 0 dimes,\", i, \"nickels\",\" 0 pennies\")\n",
        "for i in range(101):\n",
        "  dollar = (i*dime)\n",
        "  if dollar == 100:\n",
        "    print(\"0 quarters\",i, \"dimes\", \"0 nickels, 0 pennies\")\n",
        "for i in range(101):\n",
        "  dollar = (i*quarter)\n",
        "  if dollar == 100:\n",
        "    print(i,\"quarters\",\" 0 dimes, 0 nickels, 0 pennies\")\n"
      ],
      "execution_count": null,
      "outputs": [
        {
          "output_type": "stream",
          "text": [
            "Change for $1\n",
            "0 quarters, 0 dimes, 0 nickels 100 pennies\n",
            "0 quarters, 0 dimes, 20 nickels  0 pennies\n",
            "0 quarters 10 dimes 0 nickels, 0 pennies\n",
            "4 quarters  0 dimes, 0 nickels, 0 pennies\n"
          ],
          "name": "stdout"
        }
      ]
    },
    {
      "cell_type": "markdown",
      "metadata": {
        "id": "rUPDjYiIkbgs"
      },
      "source": [
        "##### Q7. Ask the user to enter two positive integers between 1 and 100. Read those integers. Then output a multiplication table of the first number times the second number. \n",
        "\n",
        "Note: You have to ensure the entered numbers are between 1 and 100 only.\n",
        "\n",
        "```\n",
        "Please enter an integer: 5\n",
        "Please enter another integer: 20\n",
        "5 x 1 = 5\n",
        "5 x 2 = 10\n",
        "5 x 3 = 15\n",
        "…\n",
        "5 x 20 = 100\n",
        "```"
      ]
    },
    {
      "cell_type": "code",
      "metadata": {
        "id": "Qg0Orv1klHzA",
        "colab": {
          "base_uri": "https://localhost:8080/"
        },
        "outputId": "9f44992b-ec79-4510-8ac5-e9e796e33d12"
      },
      "source": [
        "# Type solution here\n",
        "int1 = int(input(\"Please enter an integer:\"))\n",
        "int2 = int(input(\"Please enter another integer:\"))\n",
        "if int1 > 100 or int1 < 0:\n",
        "  print(\"Error. Use numbers between 0:100\")\n",
        "if int2 > 100 or int2 < 0:\n",
        "  print(\"Error. Use numbers between 0:100\")\n",
        "for i in range(int2):\n",
        "  print(int1,\"x\",1+i,\"=\",int1*(1+i))"
      ],
      "execution_count": null,
      "outputs": [
        {
          "output_type": "stream",
          "text": [
            "Please enter an integer:5\n",
            "Please enter another integer:20\n",
            "5 x 1 = 5\n",
            "5 x 2 = 10\n",
            "5 x 3 = 15\n",
            "5 x 4 = 20\n",
            "5 x 5 = 25\n",
            "5 x 6 = 30\n",
            "5 x 7 = 35\n",
            "5 x 8 = 40\n",
            "5 x 9 = 45\n",
            "5 x 10 = 50\n",
            "5 x 11 = 55\n",
            "5 x 12 = 60\n",
            "5 x 13 = 65\n",
            "5 x 14 = 70\n",
            "5 x 15 = 75\n",
            "5 x 16 = 80\n",
            "5 x 17 = 85\n",
            "5 x 18 = 90\n",
            "5 x 19 = 95\n",
            "5 x 20 = 100\n"
          ],
          "name": "stdout"
        }
      ]
    },
    {
      "cell_type": "markdown",
      "metadata": {
        "id": "SbnbPUPTlLD9"
      },
      "source": [
        "##### Q8. Write a program to ask the user to enter a password. Then check to see if it is a valid password based on these requirements -\n",
        "\n",
        "Must be at least 8 characters long\n",
        "\n",
        "Must contain both uppercase and lowercase letters\n",
        "\n",
        "Must contain at least one number between 0-9\n",
        "\n",
        "Must contain a special character -!,@,#,$\n",
        "\n",
        "If the password is not valid, ask the user to re-enter. This should continue until the user enters a valid password. After a valid password is entered, print Access Granted!\n",
        "\n",
        "```\n",
        "Please enter a password. Follow these requirements - \n",
        "a. Must be at least 8 characters long\n",
        "b. Must contain both uppercase and lowercase letters\n",
        "c. Must contain at least one number between 0-9\n",
        "d. Must contain a special character -!,@,#,$\n",
        "Password: HelloWorld1\n",
        "Invalid password. Try again!\n",
        "Password: Hello@World1\n",
        "Access Granted!\n",
        "```\n"
      ]
    },
    {
      "cell_type": "code",
      "metadata": {
        "id": "OXmZ177Rl-RV",
        "colab": {
          "base_uri": "https://localhost:8080/"
        },
        "outputId": "8425e683-7d72-4572-e75b-cb64b57d13ab"
      },
      "source": [
        "# Type solution here\n",
        "print(\"Please enter a password. \\nFollow these requirements - \\na. Must be at least 8 characters long \\nb. Must contain both uppercase and lowercase letters \\nc. Must contain at least one number between 0-9 \\nd. Must contain a special character -!,@,#,$\")\n",
        "password = input(':')\n",
        "if len(password) < 8:\n",
        "  print(\"Invalid password. Try again!\")\n",
        "elif password.islower() == True:\n",
        "  print(\"Invalid password. Try again!\")\n",
        "elif password.isupper() == True:\n",
        "  print(\"Invalid password. Try again!\")\n",
        "for i in password:\n",
        "  if password.isdigit():\n",
        "    withnum = True\n",
        "    if withnum == False:\n",
        "      print(\"Invalid password. Try again!\")\n",
        "\n"
      ],
      "execution_count": null,
      "outputs": [
        {
          "output_type": "stream",
          "text": [
            "Please enter a password. \n",
            "Follow these requirements - \n",
            "a. Must be at least 8 characters long \n",
            "b. Must contain both uppercase and lowercase letters \n",
            "c. Must contain at least one number between 0-9 \n",
            "d. Must contain a special character -!,@,#,$\n",
            ":Pizzamannnana9\n"
          ],
          "name": "stdout"
        }
      ]
    },
    {
      "cell_type": "markdown",
      "metadata": {
        "id": "-0sdutTDnTKA"
      },
      "source": [
        "##### Q9. Given the score sheet of participants in a competition, you are required to find the runner-up score. You are given scores in a list. Find the score of the runner-up.\n",
        "\n",
        "```\n",
        "list1 - [2, 3, 6, 6, 5]\n",
        "runner_up - 5\n",
        "\n",
        "list2 - [1, 7, 5, 3, 10, 4, 5, 5, 6, 11]\n",
        "runner_up - 10\n",
        "```"
      ]
    },
    {
      "cell_type": "code",
      "metadata": {
        "id": "12YP9OaqpGRK",
        "colab": {
          "base_uri": "https://localhost:8080/"
        },
        "outputId": "84383b9b-9d05-435b-c3f1-8063ff39f575"
      },
      "source": [
        "# Type solution here\n",
        "list1 = [2, 3, 6, 6, 5]\n",
        "list1.sort()\n",
        "max = list1[-1]\n",
        "while list1[-1] == max:\n",
        "  for i in list1:\n",
        "    if i == list1[-1]:\n",
        "      list1.remove(max)\n",
        "print(\"list 1 runner_up:\", list1[-1])\n",
        "\n",
        "list2 = [1, 7, 5, 3, 10, 4, 5, 5, 6, 11]\n",
        "list2.sort()\n",
        "max = list2[-1]\n",
        "\n",
        "while list2[-1] == max:\n",
        "  for i in list2:\n",
        "    if i == list2[-1]:\n",
        "      list2.remove(max)\n",
        "print(\"list 2 runner_up:\", list2[-1])\n"
      ],
      "execution_count": null,
      "outputs": [
        {
          "output_type": "stream",
          "text": [
            "list 1 runner_up: 5\n",
            "list 2 runner_up: 10\n"
          ],
          "name": "stdout"
        }
      ]
    }
  ]
}